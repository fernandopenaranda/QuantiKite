{
 "cells": [
  {
   "cell_type": "markdown",
   "metadata": {},
   "source": [
    "## Usage Guide: Graphene\n",
    "### A. Calculate the density of states (dos) of graphene \n",
    "#### Step I. Create the Hamiltonian"
   ]
  },
  {
   "cell_type": "code",
   "execution_count": 2,
   "metadata": {},
   "outputs": [],
   "source": [
    "using Quantica\n",
    "using QuantiKite\n",
    "\n",
    "h = HamiltonianPresets.graphene();"
   ]
  },
  {
   "cell_type": "markdown",
   "metadata": {},
   "source": [
    "#### Step II. Create the configuration and settings structs"
   ]
  },
  {
   "cell_type": "code",
   "execution_count": null,
   "metadata": {},
   "outputs": [],
   "source": [
    "\n",
    "c = configuration(\n",
    "    divisions = (1, 1),  # # partitions for the multithreaded calculation\n",
    "    unitcells =(64, 64), # # repetitions of the original unitcell along the Bravais vectors\n",
    "    boundaries = (\"periodic\", \"periodic\"),  \n",
    "    precision = 2, # Numerical precission for the calculation\n",
    "    spectrum_range = nothing # KPM bandwidth. If nothing it is computed automatically\n",
    "    )\n",
    "\n",
    "s = dos(c, num_points = 4000, num_moments = 256, num_random = 256, num_disorder = 1)"
   ]
  },
  {
   "cell_type": "markdown",
   "metadata": {},
   "source": [
    "#### Step III. Build the h5 file"
   ]
  },
  {
   "cell_type": "code",
   "execution_count": null,
   "metadata": {},
   "outputs": [],
   "source": [
    "config_system(h, c, s, filename = \"graphenedos.h5\")"
   ]
  },
  {
   "cell_type": "markdown",
   "metadata": {},
   "source": [
    "#### Step IV. Pass the h5 file to Kite functions"
   ]
  },
  {
   "cell_type": "markdown",
   "metadata": {},
   "source": [
    "Compute Chebyshev momenta "
   ]
  },
  {
   "cell_type": "code",
   "execution_count": null,
   "metadata": {},
   "outputs": [],
   "source": [
    "~/kite/build/KITEx graphenedos.h5"
   ]
  },
  {
   "cell_type": "markdown",
   "metadata": {},
   "source": [
    "Observable reconstruction (dos) using the momenta of the Chebyshev expansion"
   ]
  },
  {
   "cell_type": "raw",
   "metadata": {},
   "source": [
    "~/kite/build/KITE-tools graphenedos.h5"
   ]
  },
  {
   "cell_type": "markdown",
   "metadata": {},
   "source": [
    "The resulting dos is stored in a \"dos.dat\" file which can be plotted as:"
   ]
  },
  {
   "cell_type": "code",
   "execution_count": null,
   "metadata": {},
   "outputs": [],
   "source": [
    "dos_plot(\"dos.dat\")"
   ]
  },
  {
   "cell_type": "markdown",
   "metadata": {},
   "source": [
    "<img src=\"graphenedos.png\">"
   ]
  },
  {
   "cell_type": "markdown",
   "metadata": {},
   "source": [
    "### B. Calculate the linear optical conductivity of graphene "
   ]
  },
  {
   "cell_type": "markdown",
   "metadata": {},
   "source": [
    "Using the same configuration struct (c) and Hamiltonian h"
   ]
  },
  {
   "cell_type": "code",
   "execution_count": null,
   "metadata": {},
   "outputs": [],
   "source": [
    "s = conductivity_optical(c,  num_points = 1000,  num_moments = 512,  num_random = 20,  num_disorder = 1, direction = \"xx\", temperature = 0.0)"
   ]
  },
  {
   "cell_type": "code",
   "execution_count": null,
   "metadata": {},
   "outputs": [],
   "source": [
    "config_system(h, c, s, filename = \"graphene_linear_optical_conductivity.h5\")"
   ]
  },
  {
   "cell_type": "markdown",
   "metadata": {},
   "source": [
    "Repeat step IV"
   ]
  },
  {
   "cell_type": "code",
   "execution_count": null,
   "metadata": {},
   "outputs": [],
   "source": [
    "\n",
    "linear_optical_conductivity_plot(\"hdf5/optcond.dat\")"
   ]
  },
  {
   "cell_type": "markdown",
   "metadata": {},
   "source": [
    "<img src=\"optcond.png\">"
   ]
  },
  {
   "cell_type": "markdown",
   "metadata": {},
   "source": []
  }
 ],
 "metadata": {
  "kernelspec": {
   "display_name": "Julia 1.9.3",
   "language": "julia",
   "name": "julia-1.9"
  },
  "language_info": {
   "file_extension": ".jl",
   "mimetype": "application/julia",
   "name": "julia",
   "version": "1.9.3"
  },
  "orig_nbformat": 4
 },
 "nbformat": 4,
 "nbformat_minor": 2
}
